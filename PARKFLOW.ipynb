{
  "nbformat": 4,
  "nbformat_minor": 0,
  "metadata": {
    "colab": {
      "provenance": [],
      "authorship_tag": "ABX9TyOEyCIzlbMFbFAg9imCAnfI",
      "include_colab_link": true
    },
    "kernelspec": {
      "name": "python3",
      "display_name": "Python 3"
    },
    "language_info": {
      "name": "python"
    }
  },
  "cells": [
    {
      "cell_type": "markdown",
      "metadata": {
        "id": "view-in-github",
        "colab_type": "text"
      },
      "source": [
        "<a href=\"https://colab.research.google.com/github/david06baez/Trabajo_Final1/blob/main/PARKFLOW.ipynb\" target=\"_parent\"><img src=\"https://colab.research.google.com/assets/colab-badge.svg\" alt=\"Open In Colab\"/></a>"
      ]
    },
    {
      "cell_type": "markdown",
      "source": [
        "# PARKFLOW\n",
        "## INTEGRANTES:\n",
        "- DAVID FERNANDO BÁEZ\n",
        "- JUAN PABLO MARÍN\n",
        "- SANTIAGO OSORIO\n"
      ],
      "metadata": {
        "id": "pEVKNouH1Wyx"
      }
    },
    {
      "cell_type": "markdown",
      "source": [
        "## LIBRERÍAS:\n",
        "- CSV: Esta librería nos permite leer y escribir archivos en CSV. Es útil para almacenar y manipular datos estructurados de manera sencilla, como registros de entradas y salidas. En nuestro trabajo la usamos para generar un archivo con el historial diario del parqueadero, guardando información como el nombre, placa, hora de ingreso, hora de salida y el total pagado.\n",
        "- Datetime: Es un módulo de Python que permite trabajar con fechas y horas. Proporciona funciones para obtener la fecha y hora actual, calcular diferencias entre tiempos. En el proyecto la usamos para registrar la hora de ingreso y salida de los vehículos, así como para calcular el tiempo total de estancia en el parqueadero.\n",
        "- Pandas: Es una librería muy útil para el análisis y manipulación de datos. Facilita el trabajo con grandes volúmenes de información en estructuras tipo tabla. Fue empleada en el proyecto para leer el archivo csv generado al final del día con los registros de ingreso y salida de vehículos."
      ],
      "metadata": {
        "id": "fmMOyTeG2wnL"
      }
    },
    {
      "cell_type": "code",
      "execution_count": 1,
      "metadata": {
        "id": "vbrpayHa1CQy"
      },
      "outputs": [],
      "source": [
        "#Importamos librerías\n",
        "import csv\n",
        "from datetime import datetime, timedelta\n",
        "import pandas as pd"
      ]
    },
    {
      "cell_type": "markdown",
      "source": [
        "## Almacenamiento de datos\n",
        "Para guardar la información mientras el programa se ejecute, usamos listas y diccionarios. Con las listas manejamos cosas como los usuarios registrados, los carros que están dentro del parqueadero, los espacios disponibles y el historial del día. Cada elemento en esas listas significa un registro. También usamos diccionarios para datos más organizados, por ejemplo, para guardar la información de cada vehículo que entra o sale, o para las credenciales del administrador."
      ],
      "metadata": {
        "id": "oA4rfQ4t3Dpy"
      }
    },
    {
      "cell_type": "code",
      "source": [
        "#Almacenamos los datos en las siguientes listas\n",
        "Usuarios = []\n",
        "Vehiculos_en_parqueo = []\n",
        "Historico_vehiculos = []\n",
        "Espacios_disponibles = [f'P{i+1}' for i in range(50)]  #50 celdas numeradas del P1 al P50, este es el espacio de nuestro parqueadero.\n",
        "Credenciales_admin = {'admin': 'admin123'}  #Usuario y contraseña del admin"
      ],
      "metadata": {
        "id": "8k1QzSCT3Ua_"
      },
      "execution_count": 2,
      "outputs": []
    },
    {
      "cell_type": "markdown",
      "source": [
        "## Validaciones de los datos\n",
        "Para asegurar que los datos ingresados por los usuarios sean correctos y consistentes, el sistema implementa una serie de funciones que realizan validaciones básicas antes de guardar cualquier información. Estas funciones devuelven una lista con los errores encontrados, lo que permite informar al usuario de forma clara qué debe corregir.\n",
        "\n",
        "def validar_nombre(nombre):\n",
        "\n",
        "Esta función se encarga de validar el nombre del usuario. Revisa que el nombre tenga al menos 3 caracteres y que no contenga números, ya que un nombre válido solo debe contener letras. Si no cumple con estas condiciones, devuelve los mensajes de error correspondientes.\n",
        "\n",
        "def validar_apellido(apellido):\n",
        "\n",
        "Funciona de manera similar a la anterior, pero aplicada al apellido. Se asegura de que el apellido tenga una longitud mínima de 3 letras y que no incluya dígitos. Esto ayuda a mantener una base de datos limpia y coherente.\n",
        "\n",
        "def validar_documento(documento):\n",
        "\n",
        "Esta validación garantiza que el documento de identidad ingresado sea numérico y que su longitud esté entre 3 y 15 caracteres. De esta forma, se evita el ingreso de documentos inválidos o extremadamente cortos o largos.\n",
        "\n",
        "def validar_placa(placa):\n",
        "\n",
        "Valida que la placa del vehículo tenga exactamente 6 caracteres, en un formato específico: 3 letras seguidas de 3 número. Esto permite mantener un registro estandarizado de las placas y evitar errores de escritura o formatos incorrectos.\n",
        "\n",
        "Todas estas validaciones se ejecutan al momento de registrar un nuevo usuario. Si alguna de ellas falla, el sistema muestra los errores y no permite avanzar hasta que la información sea válida."
      ],
      "metadata": {
        "id": "5OZfXeUd3ZNE"
      }
    },
    {
      "cell_type": "code",
      "source": [
        "#Validaciones de los datos ingresados por el usuario\n",
        "def validar_nombre(nombre):\n",
        "    '''\n",
        "    Recibe un string y devuelve una lista con los errores encontrados.\n",
        "    '''\n",
        "    errores = []\n",
        "    if len(nombre) < 3:\n",
        "        errores.append(\"El nombre debe tener al menos 3 letras.\")\n",
        "    if any(char.isdigit() for char in nombre):\n",
        "        errores.append(\"El nombre no puede contener números.\")\n",
        "    return errores\n",
        "\n",
        "def validar_apellido(apellido):\n",
        "    '''\n",
        "    Recibe un string y devuelve una lista con los errores encontrados.\n",
        "    '''\n",
        "    errores = []\n",
        "    if len(apellido) < 3:\n",
        "        errores.append(\"El apellido debe tener al menos 3 letras.\")\n",
        "    if any(char.isdigit() for char in apellido):\n",
        "        errores.append(\"El apellido no puede contener números.\")\n",
        "    return errores\n",
        "\n",
        "def validar_documento(documento):\n",
        "    '''\n",
        "    Recibe un string y devuelve una lista con los errores encontrados.\n",
        "    '''\n",
        "    errores = []\n",
        "    if not documento.isdigit():\n",
        "        errores.append(\"El documento debe contener solo números.\")\n",
        "    if not (3 <= len(documento) <= 15):\n",
        "        errores.append(\"El documento debe tener entre 3 y 15 dígitos.\")\n",
        "    return errores\n",
        "\n",
        "def validar_placa(placa):\n",
        "    '''\n",
        "    Recibe un string y devuelve una lista con los errores encontrados.\n",
        "    '''\n",
        "    errores = []\n",
        "    if len(placa) != 6:\n",
        "        errores.append(\"La placa debe tener exactamente 6 caracteres.\")\n",
        "    if not (placa[:3].isalpha() and placa[3:].isdigit()):\n",
        "        errores.append(\"La placa debe tener 3 letras seguidas de 3 números (Ej: ABC123).\")\n",
        "    return errores"
      ],
      "metadata": {
        "id": "8Uf_78Y63inY"
      },
      "execution_count": 3,
      "outputs": []
    },
    {
      "cell_type": "markdown",
      "source": [
        "## Código principal\n",
        "Es el punto de entrada de nuestro sistema, acá activamos cada parte del programa según la opción que el usuario seleccione."
      ],
      "metadata": {
        "id": "mcGfz5RA3oGO"
      }
    },
    {
      "cell_type": "code",
      "source": [
        "#Mensaje de bienvenida\n",
        "print('-' * 74)\n",
        "print(\"\"\"\n",
        "  ____  _                           _     _\n",
        " |  _ \\(_)                         (_)   | |\n",
        " | |_) |_  ___ _ ____   _____ _ __  _  __| | ___  ___    __ _\n",
        " |  _ <| |/ _ \\ '_ \\ \\ / / _ \\ '_ \\| |/ _` |/ _ \\/ __|  / _` |\n",
        " | |_) | |  __/ | | \\ V /  __/ | | | | (_| | (_) \\__ \\ | (_| |\n",
        " |____/|_|\\___|_| |_|\\_/ \\___|_| |_|_|\\__,_|\\___/|___/  \\__,_|\n",
        "  _                                   _____           _    _\n",
        " | |                                 |  __ \\         | |  (_)\n",
        " | |    _   ___  ___   _ _ __ _   _  | |__) |_ _ _ __| | ___ _ __   __ _\n",
        " | |   | | | \\ \\/ / | | | '__| | | | |  ___/ _` | '__| |/ / | '_ \\ / _` |\n",
        " | |___| |_| |>  <| |_| | |  | |_| | | |  | (_| | |  |   <| | | | | (_| |\n",
        " |______\\__,_/_/\\_\\__, _|_|   \\__, | |_|   \\__,_|_|  |_|\\_\\_|_| |_|\\__, |\n",
        "                               __/ |                                __/ |\n",
        "                              |___/                                |___/\n",
        "\"\"\")\n",
        "print('-' * 74)\n",
        "\n",
        "#Bucle principal\n",
        "while True:\n",
        "    print('*' * 3, 'MENÚ DE OPCIONES', '*' * 3)\n",
        "    print('1. Registrar usuario.')\n",
        "    print('2. Registrar ingreso de vehículo.')\n",
        "    print('3. Retirar vehículo y calcular el costo.')\n",
        "    print('4. Ingreso como administrador.')\n",
        "    print('5. Cerrar día y generar CSV.')\n",
        "    print('6. Salir del programa.')\n",
        "\n",
        "    opcion_input = input('Ingrese la opción deseada: ')\n",
        "    if not opcion_input.isdigit():\n",
        "        print(\"Debe ingresar un número.\")\n",
        "        continue\n",
        "    opcion = int(opcion_input)\n",
        "\n",
        "    if opcion == 1:\n",
        "        print('Bienvenido al sistema de registro de usuario.')\n",
        "        errores_totales = []\n",
        "\n",
        "        nombre = input('Ingrese su nombre: ').capitalize()\n",
        "        errores_totales += validar_nombre(nombre)\n",
        "\n",
        "        apellido = input('Ingrese su apellido: ').capitalize()\n",
        "        errores_totales += validar_apellido(apellido)\n",
        "\n",
        "        documento = input('Ingrese su documento de identidad: ')\n",
        "        errores_totales += validar_documento(documento)\n",
        "\n",
        "        placa = input('Ingrese la placa de su vehículo: ').upper()\n",
        "        errores_totales += validar_placa(placa)\n",
        "\n",
        "        if errores_totales:\n",
        "            print('Se encontraron los siguientes errores:')\n",
        "            for err in errores_totales:\n",
        "                print(\"-\", err)\n",
        "        else:\n",
        "            Usuarios.append([nombre, apellido, documento, placa])\n",
        "            print(f'{nombre} {apellido}, su usuario se ha registrado con éxito.')\n",
        "\n",
        "    elif opcion == 2:\n",
        "        print('Bienvenido al sistema de ingreso de vehículos.')\n",
        "        if not Espacios_disponibles:\n",
        "            print('El parqueadero está lleno.')\n",
        "            continue\n",
        "\n",
        "        placa_ingresar = input('Ingrese la placa del vehículo: ').upper()\n",
        "        usuario_encontrado = None\n",
        "        for usuario in Usuarios:\n",
        "            if usuario[3] == placa_ingresar:\n",
        "                usuario_encontrado = usuario\n",
        "                break\n",
        "\n",
        "        if usuario_encontrado:\n",
        "            hora_ingreso = datetime.utcnow() - timedelta(hours=5)\n",
        "            celda_asignada = Espacios_disponibles.pop(0)\n",
        "            vehiculo = [usuario_encontrado[0], usuario_encontrado[3], hora_ingreso, celda_asignada]\n",
        "            Vehiculos_en_parqueo.append(vehiculo)\n",
        "\n",
        "            registro = {\n",
        "                \"Nombre\": usuario_encontrado[0],\n",
        "                \"Apellido\": usuario_encontrado[1],\n",
        "                \"Placa\": usuario_encontrado[3],\n",
        "                \"Hora_ingreso\": hora_ingreso,\n",
        "                \"Hora_salida\": None,\n",
        "                \"Total_pagado\": None,\n",
        "                \"Celda\": celda_asignada\n",
        "            }\n",
        "            Historico_vehiculos.append(registro)\n",
        "\n",
        "            print('Vehículo ingresado correctamente en la celda', celda_asignada)\n",
        "            print('*'*5,'FACTURA','*'*5)\n",
        "            print('Hora de ingreso:', hora_ingreso.strftime('%Y-%m-%d %H:%M:%S'))\n",
        "            print('Usuario:', usuario_encontrado[0])\n",
        "            print('Placa:', usuario_encontrado[3])\n",
        "            print('Celda asignada:', celda_asignada)\n",
        "\n",
        "        else:\n",
        "            print('El vehículo no se encuentra registrado.')\n",
        "\n",
        "    elif opcion == 3:\n",
        "        print('Bienvenido al sistema de retiro de vehículo.')\n",
        "        placa_retirar = input('Ingrese la placa del vehículo a retirar: ').upper()\n",
        "        vehiculo_encontrado = None\n",
        "        for vehiculo in Vehiculos_en_parqueo:\n",
        "            if vehiculo[1] == placa_retirar:\n",
        "                vehiculo_encontrado = vehiculo\n",
        "                break\n",
        "\n",
        "        if vehiculo_encontrado:\n",
        "            hora_salida = datetime.utcnow() - timedelta(hours=5)\n",
        "            hora_ingreso = vehiculo_encontrado[2]\n",
        "            tiempo_total_min = (hora_salida - hora_ingreso).total_seconds() / 60\n",
        "\n",
        "            if tiempo_total_min <= 0:\n",
        "                print(\"Error: la hora de salida debe ser mayor que la de ingreso.\")\n",
        "            else:\n",
        "                horas = int(tiempo_total_min) // 60\n",
        "                minutos_restantes = int(tiempo_total_min) % 60\n",
        "                cuartos_hora = minutos_restantes // 15\n",
        "\n",
        "                cobro_horas = horas * 7000\n",
        "                cobro_cuartos = cuartos_hora * 1500\n",
        "                total_pagar = max(7000, cobro_horas + cobro_cuartos)\n",
        "\n",
        "                print(f'Tiempo total: {horas}h {minutos_restantes}min')\n",
        "                print(f'Total a pagar: ${total_pagar}')\n",
        "\n",
        "                Vehiculos_en_parqueo.remove(vehiculo_encontrado)\n",
        "                Espacios_disponibles.append(vehiculo_encontrado[3])  # devolver celda\n",
        "\n",
        "                for registro in Historico_vehiculos:\n",
        "                    if registro[\"Placa\"] == placa_retirar and registro[\"Hora_salida\"] is None:\n",
        "                        registro[\"Hora_salida\"] = hora_salida\n",
        "                        registro[\"Total_pagado\"] = total_pagar\n",
        "                        break\n",
        "                print('Vehículo retirado correctamente.')\n",
        "        else:\n",
        "            print('Vehículo no encontrado.')\n",
        "\n",
        "    elif opcion == 4:\n",
        "        print('Ingreso como administrador.')\n",
        "        usuario = input(\"Usuario: \")\n",
        "        contraseña = input(\"Contraseña: \")\n",
        "        if usuario in Credenciales_admin and Credenciales_admin[usuario] == contraseña:\n",
        "            print('Acceso concedido.')\n",
        "\n",
        "            total_registrados = len(Historico_vehiculos)\n",
        "            total_retirados = sum(1 for r in Historico_vehiculos if r[\"Hora_salida\"] is not None)\n",
        "            total_en_parqueo = total_registrados - total_retirados\n",
        "            total_pagado = sum(r[\"Total_pagado\"] for r in Historico_vehiculos if r[\"Total_pagado\"] is not None)\n",
        "\n",
        "            tiempos = []\n",
        "            for r in Historico_vehiculos:\n",
        "                if r[\"Hora_salida\"] is not None:\n",
        "                    tiempo = (r[\"Hora_salida\"] - r[\"Hora_ingreso\"]).total_seconds() / 60\n",
        "                    tiempos.append((r[\"Placa\"], tiempo))\n",
        "\n",
        "            tiempo_prom = sum(t for _, t in tiempos) / len(tiempos) if tiempos else 0\n",
        "            if tiempos:\n",
        "                max_tiempo = max(tiempos, key=lambda x: x[1])\n",
        "                min_tiempo = min(tiempos, key=lambda x: x[1])\n",
        "            else:\n",
        "                max_tiempo = min_tiempo = (\"N/A\", 0)\n",
        "\n",
        "            print(\"--- Reporte de Administración ---\")\n",
        "            print(f\"Total vehículos registrados: {total_registrados}\")\n",
        "            print(f\"Total vehículos retirados: {total_retirados}\")\n",
        "            print(f\"Total vehículos en parqueo: {total_en_parqueo}\")\n",
        "            print(f\"Total pagado: ${total_pagado}\")\n",
        "            print(f\"Tiempo promedio de estancia: {round(tiempo_prom, 2)} minutos\")\n",
        "            print(f\"Vehículo con mayor tiempo: {max_tiempo[0]} ({round(max_tiempo[1], 2)} min)\")\n",
        "            print(f\"Vehículo con menor tiempo: {min_tiempo[0]} ({round(min_tiempo[1], 2)} min)\")\n",
        "            print(\"Usuarios registrados:\")\n",
        "            for u in Usuarios:\n",
        "                print(f\"- {u[0]} {u[1]} - Placa: {u[3]}\")\n",
        "            print(\"Ocupación de celdas:\")\n",
        "            ocupadas = [v[3] for v in Vehiculos_en_parqueo]\n",
        "            for i in range(50):\n",
        "                celda = f'P{i+1}'\n",
        "                estado = \"Ocupada\" if celda in ocupadas else \"Libre\"\n",
        "                print(f\"{celda}: {estado}\")\n",
        "        else:\n",
        "            print(\"Acceso denegado.\")\n",
        "\n",
        "    elif opcion == 5:\n",
        "        print(\"Cerrando el día. Generando archivo CSV...\")\n",
        "\n",
        "        with open('registro_dia.csv', 'w', newline='') as archivo_csv:\n",
        "            writer = csv.writer(archivo_csv)\n",
        "            writer.writerow(['Nombre', 'Apellido', 'Placa', 'Hora de Ingreso', 'Hora de Salida', 'Total Pagado', 'Celda'])\n",
        "\n",
        "            for registro in Historico_vehiculos:\n",
        "                hora_ingreso = registro[\"Hora_ingreso\"].strftime('%Y-%m-%d %H:%M:%S')\n",
        "                hora_salida = registro[\"Hora_salida\"].strftime('%Y-%m-%d %H:%M:%S') if registro[\"Hora_salida\"] else \"En parqueadero\"\n",
        "                total = registro[\"Total_pagado\"] if registro[\"Total_pagado\"] is not None else \"N/A\"\n",
        "                writer.writerow([registro[\"Nombre\"], registro[\"Apellido\"], registro[\"Placa\"], hora_ingreso, hora_salida, total, registro[\"Celda\"]])\n",
        "\n",
        "        print(\"Archivo CSV generado como 'registro_dia.csv'. ¡Hasta mañana!\")\n",
        "        break\n",
        "\n",
        "    elif opcion == 6:\n",
        "        print(\"Saliendo del programa. ¡Hasta luego!\")\n",
        "        break\n",
        "\n",
        "    else:\n",
        "        print(\"Debe ingresar una opción válida.\")\n",
        "\n"
      ],
      "metadata": {
        "colab": {
          "base_uri": "https://localhost:8080/"
        },
        "id": "8eUgkdXK3tmT",
        "outputId": "f2455487-f395-4deb-83bf-d6053658639e"
      },
      "execution_count": 4,
      "outputs": [
        {
          "output_type": "stream",
          "name": "stdout",
          "text": [
            "--------------------------------------------------------------------------\n",
            "\n",
            "  ____  _                           _     _\n",
            " |  _ \\(_)                         (_)   | |\n",
            " | |_) |_  ___ _ ____   _____ _ __  _  __| | ___  ___    __ _\n",
            " |  _ <| |/ _ \\ '_ \\ \\ / / _ \\ '_ \\| |/ _` |/ _ \\/ __|  / _` |\n",
            " | |_) | |  __/ | | \\ V /  __/ | | | | (_| | (_) \\__ \\ | (_| |\n",
            " |____/|_|\\___|_| |_|\\_/ \\___|_| |_|_|\\__,_|\\___/|___/  \\__,_|\n",
            "  _                                   _____           _    _\n",
            " | |                                 |  __ \\         | |  (_)\n",
            " | |    _   ___  ___   _ _ __ _   _  | |__) |_ _ _ __| | ___ _ __   __ _\n",
            " | |   | | | \\ \\/ / | | | '__| | | | |  ___/ _` | '__| |/ / | '_ \\ / _` |\n",
            " | |___| |_| |>  <| |_| | |  | |_| | | |  | (_| | |  |   <| | | | | (_| |\n",
            " |______\\__,_/_/\\_\\__, _|_|   \\__, | |_|   \\__,_|_|  |_|\\_\\_|_| |_|\\__, |\n",
            "                               __/ |                                __/ |\n",
            "                              |___/                                |___/\n",
            "\n",
            "--------------------------------------------------------------------------\n",
            "*** MENÚ DE OPCIONES ***\n",
            "1. Registrar usuario.\n",
            "2. Registrar ingreso de vehículo.\n",
            "3. Retirar vehículo y calcular el costo.\n",
            "4. Ingreso como administrador.\n",
            "5. Cerrar día y generar CSV.\n",
            "6. Salir del programa.\n",
            "Ingrese la opción deseada: 6\n",
            "Saliendo del programa. ¡Hasta luego!\n"
          ]
        }
      ]
    },
    {
      "cell_type": "markdown",
      "source": [
        "## Lectura del archivo CSV\n",
        "Con pd.read_csv('registro_dia.csv') leemos el archivo descargado utilizando la librería pandas. Esto nos permite visualizar y manipular los datos de los vehículos registrados durante el día, como nombres, placas, horas de ingreso y salida, entre otros."
      ],
      "metadata": {
        "id": "8HX_kAPl4EY6"
      }
    },
    {
      "cell_type": "code",
      "source": [
        "archivo = pd.read_csv('registro_dia.csv')\n",
        "archivo"
      ],
      "metadata": {
        "id": "kKfgqadk4Ywc"
      },
      "execution_count": null,
      "outputs": []
    },
    {
      "cell_type": "markdown",
      "source": [
        "## Descarga del archivo CSV\n",
        "Usamos files.download('registro_dia.csv') para descargar el archivo CSV generado con los registros del parqueadero. Esta instrucción permite obtener el archivo directamente desde Google Colab hacia nuestro computador, facilitando su almacenamiento o análisis posterior."
      ],
      "metadata": {
        "id": "TsiXwMBn4oVT"
      }
    },
    {
      "cell_type": "code",
      "source": [
        "from google.colab import files\n",
        "files.download('registro_dia.csv')"
      ],
      "metadata": {
        "id": "iB0O2IdD4lbK"
      },
      "execution_count": null,
      "outputs": []
    }
  ]
}